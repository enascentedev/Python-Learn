{
 "cells": [
  {
   "cell_type": "code",
   "execution_count": 3,
   "id": "c8a56a3d",
   "metadata": {},
   "outputs": [
    {
     "name": "stdout",
     "output_type": "stream",
     "text": [
      "testando jupyter 2\n"
     ]
    }
   ],
   "source": [
    "print (\"testando jupyter 2\")"
   ]
  },
  {
   "cell_type": "markdown",
   "id": "b2aacf34",
   "metadata": {},
   "source": []
  }
 ],
 "metadata": {
  "kernelspec": {
   "display_name": "Python 3",
   "language": "python",
   "name": "python3"
  },
  "language_info": {
   "codemirror_mode": {
    "name": "ipython",
    "version": 3
   },
   "file_extension": ".py",
   "mimetype": "text/x-python",
   "name": "python",
   "nbconvert_exporter": "python",
   "pygments_lexer": "ipython3",
   "version": "3.10.0"
  }
 },
 "nbformat": 4,
 "nbformat_minor": 5
}
